{
  "nbformat": 4,
  "nbformat_minor": 0,
  "metadata": {
    "colab": {
      "name": "Copy of catproj-2.ipynb",
      "provenance": [],
      "collapsed_sections": []
    },
    "kernelspec": {
      "name": "python3",
      "display_name": "Python 3"
    },
    "language_info": {
      "name": "python"
    }
  },
  "cells": [
    {
      "cell_type": "code",
      "metadata": {
        "colab": {
          "base_uri": "https://localhost:8080/"
        },
        "id": "8x56CWqyTvYe",
        "outputId": "36b16a84-0fe4-49d1-b239-d04bca70333a"
      },
      "source": [
        "%cd /content/drive/MyDrive/catproj"
      ],
      "execution_count": null,
      "outputs": []
    },
    {
      "cell_type": "markdown",
      "metadata": {
        "id": "sDk-vt6oisuq"
      },
      "source": [
        "Test Connection, mount google drive, set env"
      ]
    },
    {
      "cell_type": "code",
      "metadata": {
        "colab": {
          "base_uri": "https://localhost:8080/"
        },
        "id": "uOZpxYLlSwbK",
        "outputId": "17e71247-7429-4407-95a6-846c07bb95db"
      },
      "source": [
        "import torch\n",
        "import numpy as np\n",
        "import torchvision\n",
        "import torchvision.transforms as transforms\n",
        "import matplotlib.pyplot as plt\n",
        "torch.cuda.is_available() # if false install cuda first"
      ],
      "execution_count": null,
      "outputs": []
    },
    {
      "cell_type": "markdown",
      "metadata": {
        "id": "GISfpI3GkALy"
      },
      "source": [
        "view an image, explore the data set:\n",
        "50,000 images of size (32, 32, 3)\n",
        "\n",
        "Image set: CIFAR-10"
      ]
    },
    {
      "cell_type": "code",
      "metadata": {
        "colab": {
          "base_uri": "https://localhost:8080/"
        },
        "id": "D5iwMB03Jgyp",
        "outputId": "af746f2a-4016-49dd-a05b-0e0fc7a21ac0"
      },
      "source": [
        "# source for this code block: pytorch official documentation cifar10 tutorial\n",
        "# https://pytorch.org/tutorials/beginner/blitz/cifar10_tutorial.html\n",
        "\n",
        "transform = transforms.Compose(\n",
        "    [transforms.ToTensor(),\n",
        "     transforms.Normalize((0.5, 0.5, 0.5), (0.5, 0.5, 0.5))])\n",
        "\n",
        "batch_size = 4\n",
        "\n",
        "trainset = torchvision.datasets.CIFAR10(root='./data', train=True,\n",
        "                                        download=True, transform=transform)\n",
        "trainloader = torch.utils.data.DataLoader(trainset, batch_size=batch_size,\n",
        "                                          shuffle=True, num_workers=2)\n",
        "\n",
        "testset = torchvision.datasets.CIFAR10(root='./data', train=False,\n",
        "                                       download=True, transform=transform)\n",
        "testloader = torch.utils.data.DataLoader(testset, batch_size=batch_size,\n",
        "                                         shuffle=False, num_workers=2)\n",
        "\n",
        "classes = ('plane', 'car', 'bird', 'cat',\n",
        "           'deer', 'dog', 'frog', 'horse', 'ship', 'truck')"
      ],
      "execution_count": null,
      "outputs": []
    },
    {
      "cell_type": "code",
      "metadata": {
        "colab": {
          "base_uri": "https://localhost:8080/",
          "height": 155
        },
        "id": "Caq7XF3yJl0O",
        "outputId": "7054df84-10f3-493f-8674-f42bbe25f978"
      },
      "source": [
        "# source for this code block: pytorch official documentation cifar10 tutorial\n",
        "# https://pytorch.org/tutorials/beginner/blitz/cifar10_tutorial.html\n",
        "\n",
        "# functions to show an image\n",
        "def imshow(img):\n",
        "    img = img / 2 + 0.5     # unnormalize\n",
        "    npimg = img.numpy()\n",
        "    plt.imshow(np.transpose(npimg, (1, 2, 0)))\n",
        "    plt.show()\n",
        "\n",
        "\n",
        "# get some random training images\n",
        "dataiter = iter(trainloader)\n",
        "images, labels = dataiter.next()\n",
        "\n",
        "# show images\n",
        "imshow(torchvision.utils.make_grid(images))\n",
        "# print labels\n",
        "print(' '.join('%5s' % classes[labels[j]] for j in range(batch_size)))"
      ],
      "execution_count": null,
      "outputs": []
    },
    {
      "cell_type": "markdown",
      "metadata": {
        "id": "Z_NVNA9QXJ2i"
      },
      "source": [
        "Below is the model"
      ]
    },
    {
      "cell_type": "code",
      "metadata": {
        "id": "zZeYuRPFNGW_"
      },
      "source": [
        "import torch\n",
        "import torch.nn as nn\n",
        "import torch.nn.functional as F\n",
        "\n",
        "class ResBlock(nn.Module):\n",
        "    def __init__(self, in_channel, out_channel, stride=1, kernel_size=3):\n",
        "        super(ResBlock, self).__init__()\n",
        "        self.padding = kernel_size // 2; # auto padding\n",
        "        self.normal = nn.Sequential(\n",
        "            nn.Conv2d(in_channel, out_channel, kernel_size=kernel_size, \n",
        "                      stride=stride, padding=self.padding, bias=False),\n",
        "            nn.BatchNorm2d(out_channel),\n",
        "            nn.ReLU(inplace=True),\n",
        "            nn.Conv2d(out_channel, out_channel, kernel_size=kernel_size, \n",
        "                      stride=1, padding=1, bias=False),\n",
        "            nn.BatchNorm2d(out_channel)\n",
        "        )\n",
        "\n",
        "        # shortcut block\n",
        "        if (stride==1 and in_channel==out_channel):\n",
        "            self.shortcut = nn.Identity()\n",
        "        else:\n",
        "            self.shortcut = nn.Sequential(\n",
        "                nn.Conv2d(in_channel, out_channel, kernel_size=1, stride=stride, bias=False),\n",
        "                nn.BatchNorm2d(out_channel)\n",
        "            )\n",
        "\n",
        "    def forward(self, x):\n",
        "        out = self.normal(x)\n",
        "        out += self.shortcut(x)\n",
        "        out = F.relu(out)\n",
        "        return out\n"
      ],
      "execution_count": null,
      "outputs": []
    },
    {
      "cell_type": "code",
      "metadata": {
        "id": "rkMtHw7tKOY5"
      },
      "source": [
        "\n",
        "class myNet(nn.Module):\n",
        "    def __init__(self, ResBlock):\n",
        "        super().__init__() # original: 32 * 32 * 3\n",
        "        self.conv1 = nn.Conv2d(3, 64, 3, padding=1) # in-channel, out-channel, kernal-size 32 * 32 * 64\n",
        "        self.resnet = ResBlock(64, 128) # 32 * 32 * 256\n",
        "        self.pool = nn.MaxPool2d(2, 2) # kernel-size, stride 16 * 16 * 128\n",
        "        self.conv2 = nn.Conv2d(128, 256, 5) # 12 * 12 * 256 -> 6 * 6 * 256 (pool twice)\n",
        "        self.fc = nn.Linear(256 * 6 * 6, 1) \n",
        "\n",
        "    def forward(self, x):\n",
        "        out = self.conv1(x)\n",
        "        out = self.resnet(out)\n",
        "        \n",
        "        out = self.pool(out)\n",
        "        out = self.pool(F.relu(self.conv2(out)))\n",
        "        # print(\"----------\"*5)\n",
        "        # print(out)\n",
        "        out = torch.flatten(out, 1)\n",
        "        out = self.fc(out)\n",
        "        out = torch.sigmoid(out)\n",
        "        return out\n",
        "\n",
        "net = myNet(ResBlock)"
      ],
      "execution_count": null,
      "outputs": []
    },
    {
      "cell_type": "code",
      "metadata": {
        "colab": {
          "base_uri": "https://localhost:8080/"
        },
        "id": "WAaPcGHiSOii",
        "outputId": "68d44e76-7db3-413b-e3a8-26c2742e9d27"
      },
      "source": [
        "device = torch.device(\"cuda\")\n",
        "net.to(device)"
      ],
      "execution_count": null,
      "outputs": []
    },
    {
      "cell_type": "code",
      "metadata": {
        "id": "c8K3zzVgOJrZ"
      },
      "source": [
        "import torch.optim as optim\n",
        "\n",
        "criterion = nn.BCELoss().to(device)\n",
        "optimizer = optim.SGD(net.parameters(), lr=0.001, momentum=0.9)\n",
        "NUM_EPOCHS = 8\n",
        "CAT = 3"
      ],
      "execution_count": null,
      "outputs": []
    },
    {
      "cell_type": "code",
      "metadata": {
        "id": "AOH4kX8gTb8R"
      },
      "source": [
        "def convert_label(labels):\n",
        "    l = (labels==CAT)\n",
        "    l = l.reshape(-1, 1)\n",
        "    return l.float()"
      ],
      "execution_count": null,
      "outputs": []
    },
    {
      "cell_type": "code",
      "metadata": {
        "colab": {
          "base_uri": "https://localhost:8080/"
        },
        "id": "Fu7PPMaZOKxC",
        "outputId": "3b6cc700-71b6-4043-9425-6e317ac93d80"
      },
      "source": [
        "\n",
        "for epoch in range(NUM_EPOCHS):  # loop over the dataset multiple times\n",
        "\n",
        "    running_loss = 0.0\n",
        "    for i, data in enumerate(trainloader, 0):\n",
        "        \n",
        "        inputs, labels = data\n",
        "        labels = convert_label(labels)\n",
        "        inputs, labels = inputs.to(device), labels.to(device)\n",
        "\n",
        "        optimizer.zero_grad()\n",
        "\n",
        "        outputs = net(inputs)\n",
        "        \n",
        "        loss = criterion(outputs, labels)\n",
        "        loss.backward()\n",
        "        optimizer.step()\n",
        "\n",
        "        # below code is cited from: \n",
        "        # https://pytorch.org/tutorials/beginner/blitz/cifar10_tutorial.html\n",
        "        # print statistics\n",
        "        running_loss += loss.item()\n",
        "        if i % 2000 == 1999:    # print every 2000 mini-batches\n",
        "            print('[%d, %5d] loss: %.3f' %\n",
        "                  (epoch + 1, i + 1, running_loss / 2000))\n",
        "            err_loss.append(running_loss / 2000)\n",
        "            running_loss = 0.0\n",
        "            \n",
        "print('Finished Training')"
      ],
      "execution_count": null,
      "outputs": []
    },
    {
      "cell_type": "code",
      "metadata": {
        "id": "aZ45pMsJPh8B"
      },
      "source": [
        "PATH = f'cifar_resnet_binary{NUM_EPOCHS}.pth'\n",
        "torch.save(net.state_dict(), PATH)"
      ],
      "execution_count": null,
      "outputs": []
    },
    {
      "cell_type": "markdown",
      "metadata": {
        "id": "ZD-xYth1PvTv"
      },
      "source": [
        "Testing"
      ]
    },
    {
      "cell_type": "code",
      "metadata": {
        "colab": {
          "base_uri": "https://localhost:8080/"
        },
        "id": "DCNBQbHvbrS6",
        "outputId": "81270ab1-a6c6-4ee7-9c24-a005089e7f8c"
      },
      "source": [
        "\n",
        "PATH = f\"cifar_resnet_binary{NUM_EPOCHS}.pth\"\n",
        "net = myNet(ResBlock)\n",
        "net.load_state_dict(torch.load(PATH, map_location=torch.device('cpu')))"
      ],
      "execution_count": null,
      "outputs": []
    },
    {
      "cell_type": "code",
      "metadata": {
        "id": "UppUMR44YCo7"
      },
      "source": [
        "def get_prediction(outputs):\n",
        "    p = outputs>0.5\n",
        "    p = p.reshape(-1, 1)\n",
        "    return p.int()"
      ],
      "execution_count": null,
      "outputs": []
    },
    {
      "cell_type": "code",
      "metadata": {
        "colab": {
          "base_uri": "https://localhost:8080/"
        },
        "id": "45WMj9ZaQLXL",
        "outputId": "198c6e7e-60fd-495b-e790-53b114f6fa36"
      },
      "source": [
        "correct = 0\n",
        "total = 0\n",
        "cnt = 0\n",
        "label_cnt = 0\n",
        "# since we're not training, we don't need to calculate the gradients for our outputs\n",
        "with torch.no_grad():\n",
        "    for data in testloader:\n",
        "        images, labels = data\n",
        "        labels = convert_label(labels)\n",
        "        \n",
        "        # calculate outputs by running images through the network\n",
        "        outputs = net(images)\n",
        "        # the class with the highest energy is what we choose as prediction\n",
        "        # _, predicted = torch.max(outputs.data, 1)\n",
        "        total += labels.size(0)\n",
        "        predicted = get_prediction(outputs)\n",
        "        labels = labels.int()\n",
        "\n",
        "        correct += (predicted == labels).sum().item()\n",
        "\n",
        "        cnt += (predicted == 1).sum().item()\n",
        "        label_cnt += (labels == 1).sum().item()\n",
        "\n",
        "print('Accuracy of the network on the 10000 test images: %d %%' % (\n",
        "    100 * correct / total))\n",
        "print('Total number of cats:' + label_cnt)\n",
        "print('Number of cats recognized:' + cnt)\n"
      ],
      "execution_count": null,
      "outputs": []
    },
    {
      "cell_type": "markdown",
      "metadata": {
        "id": "PzHJ3w9rXVqY"
      },
      "source": [
        "Test customized data"
      ]
    },
    {
      "cell_type": "code",
      "metadata": {
        "colab": {
          "base_uri": "https://localhost:8080/"
        },
        "id": "D1ryP9SWxy44",
        "outputId": "a3753a8c-e6ce-43d9-edf1-ad23c9fe455a"
      },
      "source": [
        "PATH = \"cifar_resnet_binary08.pth\"\n",
        "net = myNet(ResBlock)\n",
        "net.load_state_dict(torch.load(PATH, map_location=torch.device('cpu')))"
      ],
      "execution_count": null,
      "outputs": []
    },
    {
      "cell_type": "code",
      "metadata": {
        "id": "zTooSgaE2zoI"
      },
      "source": [
        "# convert an image to a tensor for model input\n",
        "def image_to_input(img):\n",
        "    '''\n",
        "    @param img: numpy array of dim (3, 32, 32)\n",
        "    @return res: torch tensor ready to pass into NN\n",
        "    '''\n",
        "    # x y z -> y z x\n",
        "    res = np.transpose(img, (2, 0, 1))\n",
        "    res = torch.from_numpy(res)\n",
        "    res = (res/256 - 0.5) * 2 \n",
        "    res = torch.unsqueeze(res, 0)\n",
        "    return res"
      ],
      "execution_count": null,
      "outputs": []
    },
    {
      "cell_type": "code",
      "execution_count": null,
      "metadata": {},
      "outputs": [],
      "source": [
        "# from path of an image, convert it to numpy array\n",
        "from PIL import Image\n",
        "def resize_img(PATH):\n",
        "    im = Image.open(PATH)  \n",
        "    im = im.resize((32, 32)) \n",
        "    im = np.array(im)\n",
        "    return im"
      ]
    },
    {
      "cell_type": "code",
      "metadata": {
        "id": "eFD_E00bod87"
      },
      "source": [
        "def get_prediction(outputs, threshold=0.2):\n",
        "    # the smaller the threshold, more easier to recognize a cat, but \n",
        "    # also more likely to recognize non-cat objects as cats\n",
        "    p = outputs>threshold\n",
        "    p = p.reshape(-1, 1)\n",
        "    return p.int()"
      ],
      "execution_count": null,
      "outputs": []
    },
    {
      "cell_type": "code",
      "metadata": {
        "id": "efvW0mUPXeoR"
      },
      "source": [
        "def test_img(PATH, net):\n",
        "    img_input = image_to_input(resize_img(PATH))\n",
        "    output = net(img_input)\n",
        "    predicted = get_prediction(output)\n",
        "    if (predicted.item() == 0):\n",
        "        return \"Doesn't look like a cat\"\n",
        "    else:\n",
        "        return \"This looks like a cat\""
      ],
      "execution_count": null,
      "outputs": []
    },
    {
      "cell_type": "code",
      "metadata": {
        "colab": {
          "base_uri": "https://localhost:8080/"
        },
        "id": "7hNFFWjmYVg1",
        "outputId": "e923f0c6-41b7-4ac9-da0b-4c7ae5ed98ae"
      },
      "source": [
        "test_img(\"wechatimg.jpeg\", net)"
      ],
      "execution_count": null,
      "outputs": []
    }
  ]
}